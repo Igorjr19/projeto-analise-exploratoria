{
 "cells": [
  {
   "cell_type": "code",
   "execution_count": 52,
   "metadata": {},
   "outputs": [],
   "source": [
    "import pandas as pd"
   ]
  },
  {
   "cell_type": "code",
   "execution_count": 53,
   "metadata": {},
   "outputs": [],
   "source": [
    "ecopontos = pd.read_csv('ecopontos_formulario.csv', sep=',')"
   ]
  },
  {
   "cell_type": "markdown",
   "metadata": {},
   "source": [
    "## Entendendo Formulário de Pesquisa"
   ]
  },
  {
   "cell_type": "code",
   "execution_count": 54,
   "metadata": {},
   "outputs": [
    {
     "name": "stdout",
     "output_type": "stream",
     "text": [
      "<class 'pandas.core.frame.DataFrame'>\n",
      "RangeIndex: 49 entries, 0 to 48\n",
      "Data columns (total 18 columns):\n",
      " #   Column                                                                                                                                                                        Non-Null Count  Dtype \n",
      "---  ------                                                                                                                                                                        --------------  ----- \n",
      " 0   Carimbo de data/hora                                                                                                                                                          49 non-null     object\n",
      " 1   Nome\n",
      "                                                                                                                                                                         49 non-null     object\n",
      " 2   Você costuma reciclar? Se não, justifique.                                                                                                                                    49 non-null     object\n",
      " 3   Com que frequência você recicla materiais em sua casa?\n",
      "                                                                                                                       49 non-null     object\n",
      " 4   Você já teve problemas com o acúmulo de lixo em sua região? Se sim, como isso afetou sua rotina diária?\n",
      "                                                                      49 non-null     object\n",
      " 5   Você já teve problemas com o mau cheiro ou com a presença de animais atraídos pelo lixo em sua região? Se sim, o que fizeram a respeito para sanar o problema?\n",
      "               49 non-null     object\n",
      " 6   Você já presenciou pessoas descartando lixo em locais inadequados em sua região? Se sim, quais foram esses locais?                                                            49 non-null     object\n",
      " 7   Qual é o seu nível de conhecimento sobre reciclagem?                                                                                                                          49 non-null     object\n",
      " 8   Você sabe quais materiais são recicláveis e quais não são?Quais informações  possui sobre isso em sua região?                                                                 49 non-null     object\n",
      " 9   Quais materiais recicláveis você costuma descartar em sua casa ou local de trabalho?                                                                                          49 non-null     object\n",
      " 10  Como você costuma descartar esses materiais recicláveis? Você utiliza algum serviço?                                                                                          49 non-null     object\n",
      " 11  Você já teve problemas com a falta de informação sobre a coleta de lixo em sua região? Se sim, que tipo de informação você gostaria de receber?                               49 non-null     object\n",
      " 12  Você já teve dificuldades em encontrar locais para descartar seus materiais recicláveis? Se sim, quais foram essas dificuldades?                                              49 non-null     object\n",
      " 13  Você gostaria de ter acesso a um mapa com os pontos de coleta ?                                                                                                               49 non-null     object\n",
      " 14  Com qual frequência você gostaria de receber notificações sobre as datas de coleta seletiva em sua região?                                                                    49 non-null     object\n",
      " 15  Você gostaria de compartilhar suas ações de reciclagem? Como compartilharia?                                                                                                  49 non-null     object\n",
      " 16  Que tipo de recompensas por suas ações de reciclagem te incentivariam?  (por exemplo, descontos em lojas parceiras, pontos que podem ser trocados por produtos ou serviços)?  49 non-null     object\n",
      " 17  Você tem alguma sugestão ou ideia para melhorar a coleta de lixo em sua região?                                                                                               49 non-null     object\n",
      "dtypes: object(18)\n",
      "memory usage: 7.0+ KB\n"
     ]
    }
   ],
   "source": [
    "ecopontos.info()"
   ]
  },
  {
   "cell_type": "code",
   "execution_count": 55,
   "metadata": {},
   "outputs": [
    {
     "data": {
      "text/html": [
       "<div>\n",
       "<style scoped>\n",
       "    .dataframe tbody tr th:only-of-type {\n",
       "        vertical-align: middle;\n",
       "    }\n",
       "\n",
       "    .dataframe tbody tr th {\n",
       "        vertical-align: top;\n",
       "    }\n",
       "\n",
       "    .dataframe thead th {\n",
       "        text-align: right;\n",
       "    }\n",
       "</style>\n",
       "<table border=\"1\" class=\"dataframe\">\n",
       "  <thead>\n",
       "    <tr style=\"text-align: right;\">\n",
       "      <th></th>\n",
       "      <th>Carimbo de data/hora</th>\n",
       "      <th>Nome\\n</th>\n",
       "      <th>Você costuma reciclar? Se não, justifique.</th>\n",
       "      <th>Com que frequência você recicla materiais em sua casa?\\n</th>\n",
       "      <th>Você já teve problemas com o acúmulo de lixo em sua região? Se sim, como isso afetou sua rotina diária?\\n</th>\n",
       "      <th>Você já teve problemas com o mau cheiro ou com a presença de animais atraídos pelo lixo em sua região? Se sim, o que fizeram a respeito para sanar o problema?\\n</th>\n",
       "      <th>Você já presenciou pessoas descartando lixo em locais inadequados em sua região? Se sim, quais foram esses locais?</th>\n",
       "      <th>Qual é o seu nível de conhecimento sobre reciclagem?</th>\n",
       "      <th>Você sabe quais materiais são recicláveis e quais não são?Quais informações  possui sobre isso em sua região?</th>\n",
       "      <th>Quais materiais recicláveis você costuma descartar em sua casa ou local de trabalho?</th>\n",
       "      <th>Como você costuma descartar esses materiais recicláveis? Você utiliza algum serviço?</th>\n",
       "      <th>Você já teve problemas com a falta de informação sobre a coleta de lixo em sua região? Se sim, que tipo de informação você gostaria de receber?</th>\n",
       "      <th>Você já teve dificuldades em encontrar locais para descartar seus materiais recicláveis? Se sim, quais foram essas dificuldades?</th>\n",
       "      <th>Você gostaria de ter acesso a um mapa com os pontos de coleta ?</th>\n",
       "      <th>Com qual frequência você gostaria de receber notificações sobre as datas de coleta seletiva em sua região?</th>\n",
       "      <th>Você gostaria de compartilhar suas ações de reciclagem? Como compartilharia?</th>\n",
       "      <th>Que tipo de recompensas por suas ações de reciclagem te incentivariam?  (por exemplo, descontos em lojas parceiras, pontos que podem ser trocados por produtos ou serviços)?</th>\n",
       "      <th>Você tem alguma sugestão ou ideia para melhorar a coleta de lixo em sua região?</th>\n",
       "    </tr>\n",
       "  </thead>\n",
       "  <tbody>\n",
       "    <tr>\n",
       "      <th>count</th>\n",
       "      <td>49</td>\n",
       "      <td>49</td>\n",
       "      <td>49</td>\n",
       "      <td>49</td>\n",
       "      <td>49</td>\n",
       "      <td>49</td>\n",
       "      <td>49</td>\n",
       "      <td>49</td>\n",
       "      <td>49</td>\n",
       "      <td>49</td>\n",
       "      <td>49</td>\n",
       "      <td>49</td>\n",
       "      <td>49</td>\n",
       "      <td>49</td>\n",
       "      <td>49</td>\n",
       "      <td>49</td>\n",
       "      <td>49</td>\n",
       "      <td>49</td>\n",
       "    </tr>\n",
       "    <tr>\n",
       "      <th>unique</th>\n",
       "      <td>49</td>\n",
       "      <td>49</td>\n",
       "      <td>24</td>\n",
       "      <td>4</td>\n",
       "      <td>33</td>\n",
       "      <td>29</td>\n",
       "      <td>46</td>\n",
       "      <td>3</td>\n",
       "      <td>43</td>\n",
       "      <td>17</td>\n",
       "      <td>48</td>\n",
       "      <td>40</td>\n",
       "      <td>37</td>\n",
       "      <td>2</td>\n",
       "      <td>4</td>\n",
       "      <td>32</td>\n",
       "      <td>45</td>\n",
       "      <td>43</td>\n",
       "    </tr>\n",
       "    <tr>\n",
       "      <th>top</th>\n",
       "      <td>30/05/2023 14:46:44</td>\n",
       "      <td>Pedro Dela Coleta de Lima</td>\n",
       "      <td>Sim</td>\n",
       "      <td>Sempre</td>\n",
       "      <td>Não</td>\n",
       "      <td>Não</td>\n",
       "      <td>Não</td>\n",
       "      <td>Conhecimento médio</td>\n",
       "      <td>Sim</td>\n",
       "      <td>Papel, Vidro, Plástico</td>\n",
       "      <td>Lixo comum</td>\n",
       "      <td>Não</td>\n",
       "      <td>Não</td>\n",
       "      <td>Sim</td>\n",
       "      <td>Semanal</td>\n",
       "      <td>Não</td>\n",
       "      <td>Descontos</td>\n",
       "      <td>Não</td>\n",
       "    </tr>\n",
       "    <tr>\n",
       "      <th>freq</th>\n",
       "      <td>1</td>\n",
       "      <td>1</td>\n",
       "      <td>19</td>\n",
       "      <td>23</td>\n",
       "      <td>16</td>\n",
       "      <td>19</td>\n",
       "      <td>3</td>\n",
       "      <td>27</td>\n",
       "      <td>6</td>\n",
       "      <td>9</td>\n",
       "      <td>2</td>\n",
       "      <td>8</td>\n",
       "      <td>13</td>\n",
       "      <td>48</td>\n",
       "      <td>27</td>\n",
       "      <td>14</td>\n",
       "      <td>5</td>\n",
       "      <td>7</td>\n",
       "    </tr>\n",
       "  </tbody>\n",
       "</table>\n",
       "</div>"
      ],
      "text/plain": [
       "       Carimbo de data/hora                      Nome\\n  \\\n",
       "count                    49                          49   \n",
       "unique                   49                          49   \n",
       "top     30/05/2023 14:46:44  Pedro Dela Coleta de Lima    \n",
       "freq                      1                           1   \n",
       "\n",
       "       Você costuma reciclar? Se não, justifique.  \\\n",
       "count                                          49   \n",
       "unique                                         24   \n",
       "top                                           Sim   \n",
       "freq                                           19   \n",
       "\n",
       "       Com que frequência você recicla materiais em sua casa?\\n  \\\n",
       "count                                                  49         \n",
       "unique                                                  4         \n",
       "top                                                Sempre         \n",
       "freq                                                   23         \n",
       "\n",
       "       Você já teve problemas com o acúmulo de lixo em sua região? Se sim, como isso afetou sua rotina diária?\\n  \\\n",
       "count                                                  49                                                          \n",
       "unique                                                 33                                                          \n",
       "top                                                  Não                                                           \n",
       "freq                                                   16                                                          \n",
       "\n",
       "       Você já teve problemas com o mau cheiro ou com a presença de animais atraídos pelo lixo em sua região? Se sim, o que fizeram a respeito para sanar o problema?\\n  \\\n",
       "count                                                  49                                                                                                                 \n",
       "unique                                                 29                                                                                                                 \n",
       "top                                                  Não                                                                                                                  \n",
       "freq                                                   19                                                                                                                 \n",
       "\n",
       "       Você já presenciou pessoas descartando lixo em locais inadequados em sua região? Se sim, quais foram esses locais?  \\\n",
       "count                                                  49                                                                   \n",
       "unique                                                 46                                                                   \n",
       "top                                                  Não                                                                    \n",
       "freq                                                    3                                                                   \n",
       "\n",
       "       Qual é o seu nível de conhecimento sobre reciclagem?  \\\n",
       "count                                                  49     \n",
       "unique                                                  3     \n",
       "top                                    Conhecimento médio     \n",
       "freq                                                   27     \n",
       "\n",
       "       Você sabe quais materiais são recicláveis e quais não são?Quais informações  possui sobre isso em sua região?  \\\n",
       "count                                                  49                                                              \n",
       "unique                                                 43                                                              \n",
       "top                                                   Sim                                                              \n",
       "freq                                                    6                                                              \n",
       "\n",
       "       Quais materiais recicláveis você costuma descartar em sua casa ou local de trabalho?  \\\n",
       "count                                                  49                                     \n",
       "unique                                                 17                                     \n",
       "top                                Papel, Vidro, Plástico                                     \n",
       "freq                                                    9                                     \n",
       "\n",
       "       Como você costuma descartar esses materiais recicláveis? Você utiliza algum serviço?  \\\n",
       "count                                                  49                                     \n",
       "unique                                                 48                                     \n",
       "top                                            Lixo comum                                     \n",
       "freq                                                    2                                     \n",
       "\n",
       "       Você já teve problemas com a falta de informação sobre a coleta de lixo em sua região? Se sim, que tipo de informação você gostaria de receber?  \\\n",
       "count                                                  49                                                                                                \n",
       "unique                                                 40                                                                                                \n",
       "top                                                  Não                                                                                                 \n",
       "freq                                                    8                                                                                                \n",
       "\n",
       "       Você já teve dificuldades em encontrar locais para descartar seus materiais recicláveis? Se sim, quais foram essas dificuldades?  \\\n",
       "count                                                  49                                                                                 \n",
       "unique                                                 37                                                                                 \n",
       "top                                                  Não                                                                                  \n",
       "freq                                                   13                                                                                 \n",
       "\n",
       "       Você gostaria de ter acesso a um mapa com os pontos de coleta ?  \\\n",
       "count                                                  49                \n",
       "unique                                                  2                \n",
       "top                                                   Sim                \n",
       "freq                                                   48                \n",
       "\n",
       "       Com qual frequência você gostaria de receber notificações sobre as datas de coleta seletiva em sua região?  \\\n",
       "count                                                  49                                                           \n",
       "unique                                                  4                                                           \n",
       "top                                               Semanal                                                           \n",
       "freq                                                   27                                                           \n",
       "\n",
       "       Você gostaria de compartilhar suas ações de reciclagem? Como compartilharia?  \\\n",
       "count                                                  49                             \n",
       "unique                                                 32                             \n",
       "top                                                  Não                              \n",
       "freq                                                   14                             \n",
       "\n",
       "       Que tipo de recompensas por suas ações de reciclagem te incentivariam?  (por exemplo, descontos em lojas parceiras, pontos que podem ser trocados por produtos ou serviços)?  \\\n",
       "count                                                  49                                                                                                                             \n",
       "unique                                                 45                                                                                                                             \n",
       "top                                             Descontos                                                                                                                             \n",
       "freq                                                    5                                                                                                                             \n",
       "\n",
       "       Você tem alguma sugestão ou ideia para melhorar a coleta de lixo em sua região?  \n",
       "count                                                  49                               \n",
       "unique                                                 43                               \n",
       "top                                                  Não                                \n",
       "freq                                                    7                               "
      ]
     },
     "execution_count": 55,
     "metadata": {},
     "output_type": "execute_result"
    }
   ],
   "source": [
    "ecopontos.describe()"
   ]
  },
  {
   "cell_type": "code",
   "execution_count": 56,
   "metadata": {},
   "outputs": [
    {
     "data": {
      "text/html": [
       "<div>\n",
       "<style scoped>\n",
       "    .dataframe tbody tr th:only-of-type {\n",
       "        vertical-align: middle;\n",
       "    }\n",
       "\n",
       "    .dataframe tbody tr th {\n",
       "        vertical-align: top;\n",
       "    }\n",
       "\n",
       "    .dataframe thead th {\n",
       "        text-align: right;\n",
       "    }\n",
       "</style>\n",
       "<table border=\"1\" class=\"dataframe\">\n",
       "  <thead>\n",
       "    <tr style=\"text-align: right;\">\n",
       "      <th></th>\n",
       "      <th>Carimbo de data/hora</th>\n",
       "      <th>Nome\\n</th>\n",
       "      <th>Você costuma reciclar? Se não, justifique.</th>\n",
       "      <th>Com que frequência você recicla materiais em sua casa?\\n</th>\n",
       "      <th>Você já teve problemas com o acúmulo de lixo em sua região? Se sim, como isso afetou sua rotina diária?\\n</th>\n",
       "      <th>Você já teve problemas com o mau cheiro ou com a presença de animais atraídos pelo lixo em sua região? Se sim, o que fizeram a respeito para sanar o problema?\\n</th>\n",
       "      <th>Você já presenciou pessoas descartando lixo em locais inadequados em sua região? Se sim, quais foram esses locais?</th>\n",
       "      <th>Qual é o seu nível de conhecimento sobre reciclagem?</th>\n",
       "      <th>Você sabe quais materiais são recicláveis e quais não são?Quais informações  possui sobre isso em sua região?</th>\n",
       "      <th>Quais materiais recicláveis você costuma descartar em sua casa ou local de trabalho?</th>\n",
       "      <th>Como você costuma descartar esses materiais recicláveis? Você utiliza algum serviço?</th>\n",
       "      <th>Você já teve problemas com a falta de informação sobre a coleta de lixo em sua região? Se sim, que tipo de informação você gostaria de receber?</th>\n",
       "      <th>Você já teve dificuldades em encontrar locais para descartar seus materiais recicláveis? Se sim, quais foram essas dificuldades?</th>\n",
       "      <th>Você gostaria de ter acesso a um mapa com os pontos de coleta ?</th>\n",
       "      <th>Com qual frequência você gostaria de receber notificações sobre as datas de coleta seletiva em sua região?</th>\n",
       "      <th>Você gostaria de compartilhar suas ações de reciclagem? Como compartilharia?</th>\n",
       "      <th>Que tipo de recompensas por suas ações de reciclagem te incentivariam?  (por exemplo, descontos em lojas parceiras, pontos que podem ser trocados por produtos ou serviços)?</th>\n",
       "      <th>Você tem alguma sugestão ou ideia para melhorar a coleta de lixo em sua região?</th>\n",
       "    </tr>\n",
       "  </thead>\n",
       "  <tbody>\n",
       "    <tr>\n",
       "      <th>0</th>\n",
       "      <td>30/05/2023 14:46:44</td>\n",
       "      <td>Pedro Dela Coleta de Lima</td>\n",
       "      <td>Não, não tenho muitas informações sobre</td>\n",
       "      <td>Raramente</td>\n",
       "      <td>Sim, como não foi de nossa responsabilidade, t...</td>\n",
       "      <td>Sim, baratas, escorpiões, e consequentemente g...</td>\n",
       "      <td>Sim, terrenos baldios, inclusive jogando fogo ...</td>\n",
       "      <td>Pouco conhecimento</td>\n",
       "      <td>Não a fundo, não há informações claras em tant...</td>\n",
       "      <td>Papel, Plástico</td>\n",
       "      <td>Descarto no lixo comum sempre</td>\n",
       "      <td>Sim, não sei exatamente</td>\n",
       "      <td>Sim, não tem lixeiras especiais de reciclagem,...</td>\n",
       "      <td>Sim</td>\n",
       "      <td>Mensal</td>\n",
       "      <td>Sim, instagram</td>\n",
       "      <td>Pontos que podem ser trocados por produtos</td>\n",
       "      <td>Melhora da divulgação, além de possíveis campa...</td>\n",
       "    </tr>\n",
       "  </tbody>\n",
       "</table>\n",
       "</div>"
      ],
      "text/plain": [
       "  Carimbo de data/hora                      Nome\\n  \\\n",
       "0  30/05/2023 14:46:44  Pedro Dela Coleta de Lima    \n",
       "\n",
       "  Você costuma reciclar? Se não, justifique.  \\\n",
       "0   Não, não tenho muitas informações sobre    \n",
       "\n",
       "  Com que frequência você recicla materiais em sua casa?\\n  \\\n",
       "0                                          Raramente         \n",
       "\n",
       "  Você já teve problemas com o acúmulo de lixo em sua região? Se sim, como isso afetou sua rotina diária?\\n  \\\n",
       "0  Sim, como não foi de nossa responsabilidade, t...                                                          \n",
       "\n",
       "  Você já teve problemas com o mau cheiro ou com a presença de animais atraídos pelo lixo em sua região? Se sim, o que fizeram a respeito para sanar o problema?\\n  \\\n",
       "0  Sim, baratas, escorpiões, e consequentemente g...                                                                                                                 \n",
       "\n",
       "  Você já presenciou pessoas descartando lixo em locais inadequados em sua região? Se sim, quais foram esses locais?  \\\n",
       "0  Sim, terrenos baldios, inclusive jogando fogo ...                                                                   \n",
       "\n",
       "  Qual é o seu nível de conhecimento sobre reciclagem?  \\\n",
       "0                                 Pouco conhecimento     \n",
       "\n",
       "  Você sabe quais materiais são recicláveis e quais não são?Quais informações  possui sobre isso em sua região?  \\\n",
       "0  Não a fundo, não há informações claras em tant...                                                              \n",
       "\n",
       "  Quais materiais recicláveis você costuma descartar em sua casa ou local de trabalho?  \\\n",
       "0                                    Papel, Plástico                                     \n",
       "\n",
       "  Como você costuma descartar esses materiais recicláveis? Você utiliza algum serviço?  \\\n",
       "0                     Descarto no lixo comum sempre                                      \n",
       "\n",
       "  Você já teve problemas com a falta de informação sobre a coleta de lixo em sua região? Se sim, que tipo de informação você gostaria de receber?  \\\n",
       "0                           Sim, não sei exatamente                                                                                                 \n",
       "\n",
       "  Você já teve dificuldades em encontrar locais para descartar seus materiais recicláveis? Se sim, quais foram essas dificuldades?  \\\n",
       "0  Sim, não tem lixeiras especiais de reciclagem,...                                                                                 \n",
       "\n",
       "  Você gostaria de ter acesso a um mapa com os pontos de coleta ?  \\\n",
       "0                                                Sim                \n",
       "\n",
       "  Com qual frequência você gostaria de receber notificações sobre as datas de coleta seletiva em sua região?  \\\n",
       "0                                             Mensal                                                           \n",
       "\n",
       "  Você gostaria de compartilhar suas ações de reciclagem? Como compartilharia?  \\\n",
       "0                                    Sim, instagram                              \n",
       "\n",
       "  Que tipo de recompensas por suas ações de reciclagem te incentivariam?  (por exemplo, descontos em lojas parceiras, pontos que podem ser trocados por produtos ou serviços)?  \\\n",
       "0         Pontos que podem ser trocados por produtos                                                                                                                             \n",
       "\n",
       "  Você tem alguma sugestão ou ideia para melhorar a coleta de lixo em sua região?  \n",
       "0  Melhora da divulgação, além de possíveis campa...                               "
      ]
     },
     "execution_count": 56,
     "metadata": {},
     "output_type": "execute_result"
    }
   ],
   "source": [
    "ecopontos.head(1)"
   ]
  },
  {
   "cell_type": "markdown",
   "metadata": {},
   "source": [
    "### Criando aliases (apelidos para os nomes das colunas)"
   ]
  },
  {
   "cell_type": "code",
   "execution_count": 57,
   "metadata": {},
   "outputs": [],
   "source": [
    "columns = ecopontos.columns.tolist()\n",
    "aliases = {\n",
    "    'datetime': 'Carimbo de data/hora',\n",
    "    'nome': 'Nome',\n",
    "    'recicla': 'Você costuma reciclar? Se não, justifique.',\n",
    "    'frequencia_recicla': 'Com que frequência você recicla materiais em sua casa?\\n',\n",
    "    'acumulo': 'Você já teve problemas com o acúmulo de lixo em sua região? Se sim, como isso afetou sua rotina diária?\\n',\n",
    "    'mau_cheiro': 'Você já teve problemas com o mau cheiro ou com a presença de animais atraídos pelo lixo em sua região? Se sim, o que fizeram a respeito para sanar o problema?\\n',\n",
    "    'descarte_local_inadequado': 'Você já presenciou pessoas descartando lixo em locais inadequados em sua região? Se sim, quais foram esses locais?',\n",
    "    'nivel_conhecimento' :'Qual é o seu nível de conhecimento sobre reciclagem?',\n",
    "    'quais_materiais_sao_reciclaveis': 'Você sabe quais materiais são recicláveis e quais não são?Quais informações  possui sobre isso em sua região?',\n",
    "    'quais_materiais_recicla_casa_trabalho': 'Quais materiais recicláveis você costuma descartar em sua casa ou local de trabalho?',\n",
    "    'como_descarta': 'Como você costuma descartar esses materiais recicláveis? Você utiliza algum serviço?',\n",
    "    'falta_informacao': 'Você já teve problemas com a falta de informação sobre a coleta de lixo em sua região? Se sim, que tipo de informação você gostaria de receber?',\n",
    "    'dificuldades_locais_descarte': 'Você já teve dificuldades em encontrar locais para descartar seus materiais recicláveis? Se sim, quais foram essas dificuldades?',\n",
    "    'mapa_ponto_coleta': 'Você gostaria de ter acesso a um mapa com os pontos de coleta ?',\n",
    "    'notificacoes': 'Com qual frequência você gostaria de receber notificações sobre as datas de coleta seletiva em sua região?',\n",
    "    'compartilhar': 'Você gostaria de compartilhar suas ações de reciclagem? Como compartilharia?',\n",
    "    'recompensas': 'Que tipo de recompensas por suas ações de reciclagem te incentivariam?  (por exemplo, descontos em lojas parceiras, pontos que podem ser trocados por produtos ou serviços)?',\n",
    "    'sugestao': 'Você tem alguma sugestão ou ideia para melhorar a coleta de lixo em sua região?'\n",
    "}"
   ]
  },
  {
   "cell_type": "code",
   "execution_count": 58,
   "metadata": {},
   "outputs": [],
   "source": [
    "aliases_values = {v: k for k, v in aliases.items()}"
   ]
  },
  {
   "cell_type": "code",
   "execution_count": 59,
   "metadata": {},
   "outputs": [],
   "source": [
    "ecopontos.rename(columns=aliases_values, inplace=True)"
   ]
  },
  {
   "cell_type": "markdown",
   "metadata": {},
   "source": [
    "## Análise das perguntas"
   ]
  },
  {
   "cell_type": "code",
   "execution_count": 60,
   "metadata": {},
   "outputs": [],
   "source": [
    "# Salva o dataframe com as respostas originais\n",
    "ecopontos_original = ecopontos.copy()"
   ]
  },
  {
   "cell_type": "markdown",
   "metadata": {},
   "source": [
    "Formatando a data e hora da resposta"
   ]
  },
  {
   "cell_type": "code",
   "execution_count": 61,
   "metadata": {},
   "outputs": [
    {
     "data": {
      "text/plain": [
       "0    2023-05-30 14:46:44\n",
       "1    2023-05-30 21:27:53\n",
       "2    2023-05-31 01:37:11\n",
       "3    2023-05-31 01:37:16\n",
       "4    2023-05-31 01:59:38\n",
       "5    2023-05-31 02:38:42\n",
       "6    2023-05-31 04:49:47\n",
       "7    2023-05-31 06:34:16\n",
       "8    2023-05-31 06:44:34\n",
       "9    2023-05-31 06:52:07\n",
       "10   2023-05-31 07:27:01\n",
       "11   2023-05-31 07:36:05\n",
       "12   2023-05-31 09:16:57\n",
       "13   2023-05-31 09:46:47\n",
       "14   2023-05-31 10:11:11\n",
       "15   2023-05-31 10:30:16\n",
       "16   2023-05-31 10:49:31\n",
       "17   2023-05-31 11:04:54\n",
       "18   2023-05-31 11:34:14\n",
       "19   2023-05-31 13:57:12\n",
       "20   2023-05-31 14:34:40\n",
       "21   2023-05-31 14:38:19\n",
       "22   2023-05-31 14:39:31\n",
       "23   2023-05-31 14:45:44\n",
       "24   2023-05-31 15:10:45\n",
       "25   2023-05-31 15:38:59\n",
       "26   2023-05-31 16:36:09\n",
       "27   2023-05-31 18:55:54\n",
       "28   2023-05-31 19:14:52\n",
       "29   2023-05-31 19:26:44\n",
       "30   2023-05-31 19:43:34\n",
       "31   2023-05-31 20:34:59\n",
       "32   2023-05-31 21:24:05\n",
       "33   2023-05-31 21:49:37\n",
       "34   2023-05-31 21:51:08\n",
       "35   2023-05-31 22:22:04\n",
       "36   2023-05-31 22:49:36\n",
       "37   2023-05-31 22:57:44\n",
       "38   2023-05-31 23:47:16\n",
       "39   2023-05-31 23:51:39\n",
       "40   2023-06-01 00:09:44\n",
       "41   2023-06-01 02:57:11\n",
       "42   2023-06-01 09:24:10\n",
       "43   2023-06-01 09:35:58\n",
       "44   2023-06-01 11:56:31\n",
       "45   2023-06-01 18:31:52\n",
       "46   2023-06-04 19:32:52\n",
       "47   2023-06-04 19:55:22\n",
       "48   2023-06-05 13:34:25\n",
       "Name: datetime, dtype: datetime64[ns]"
      ]
     },
     "execution_count": 61,
     "metadata": {},
     "output_type": "execute_result"
    }
   ],
   "source": [
    "ecopontos['datetime'].apply(lambda x: pd.to_datetime(x, errors='coerce', dayfirst=True))"
   ]
  },
  {
   "cell_type": "markdown",
   "metadata": {},
   "source": [
    "Você costuma reciclar? Se não, justifique."
   ]
  },
  {
   "cell_type": "code",
   "execution_count": 62,
   "metadata": {},
   "outputs": [
    {
     "data": {
      "text/plain": [
       "1                                                   Sim\n",
       "2                                                   sim\n",
       "6                                                  Sim \n",
       "8                                        Sim! As vezes \n",
       "9                                                   Sim\n",
       "10                                                 Sim \n",
       "11    Sim, existe ponto de reciclagem em meu condomí...\n",
       "12                                                 SIM.\n",
       "13                                                  Sim\n",
       "15                                                  sim\n",
       "16                                                  Sim\n",
       "17                                                  Sim\n",
       "19                                                  Sim\n",
       "20                                                  Sim\n",
       "21                                                  Sim\n",
       "22                                                 Sim \n",
       "23    Sim, não com frequência, porém em casa temos o...\n",
       "24                                                  Sim\n",
       "29                                                  Sim\n",
       "31                                                  Sim\n",
       "33                                                  Sim\n",
       "34                                                  Sim\n",
       "35                                                  Sim\n",
       "36                                                  sim\n",
       "37                                                  Sim\n",
       "38                                                 Sim.\n",
       "39                                                  Sim\n",
       "40                                                  Sim\n",
       "41                                                  sim\n",
       "42                                                 Sim.\n",
       "43                                                  Sim\n",
       "44                                                  Sim\n",
       "47                                 Sim ..,Tdo separado \n",
       "48                                                 Sim \n",
       "Name: recicla, dtype: object"
      ]
     },
     "execution_count": 62,
     "metadata": {},
     "output_type": "execute_result"
    }
   ],
   "source": [
    "recicla_sim = ecopontos['recicla'].str.contains('sim', case=False)\n",
    "ecopontos['recicla'][recicla_sim]"
   ]
  },
  {
   "cell_type": "code",
   "execution_count": 63,
   "metadata": {},
   "outputs": [
    {
     "data": {
      "text/plain": [
       "0              Não, não tenho muitas informações sobre \n",
       "3                                                 Não 🤡\n",
       "4                     Não, nunca fui incentivado a isso\n",
       "5     Não, não temos o hábito da separação dos lixos...\n",
       "7                        Não, separo o lixo reciclável \n",
       "14                               Não, falta de costume \n",
       "18                                 Não, tenho preguiça \n",
       "25    Não reciclo por que no meu prédio não tem lixe...\n",
       "26     Não, apenas separo os materiais, mas não levo...\n",
       "27                           Não, no meu bairro não há \n",
       "28           Não, não sei o dia de coleta do meu bairro\n",
       "32    Não, pois eu não tenho formas para fazer o arm...\n",
       "46                                                 Não \n",
       "Name: recicla, dtype: object"
      ]
     },
     "execution_count": 63,
     "metadata": {},
     "output_type": "execute_result"
    }
   ],
   "source": [
    "condition = (~(ecopontos['recicla'].str.contains('sim', case=False)) &\n",
    "            (ecopontos['recicla'].str.contains('nao', case=False) |\n",
    "             ecopontos['recicla'].str.contains('não', case=False)))\n",
    "recicla_nao = condition\n",
    "ecopontos['recicla'][recicla_nao]"
   ]
  },
  {
   "cell_type": "code",
   "execution_count": 64,
   "metadata": {},
   "outputs": [
    {
     "data": {
      "text/plain": [
       "30                                  Sempre que possível\n",
       "45    Eu tento reciclar. Aqui em casa separamos o li...\n",
       "Name: recicla, dtype: object"
      ]
     },
     "execution_count": 64,
     "metadata": {},
     "output_type": "execute_result"
    }
   ],
   "source": [
    "recicla_outros = ~recicla_sim & ~recicla_nao\n",
    "ecopontos['recicla'][recicla_outros]"
   ]
  },
  {
   "cell_type": "code",
   "execution_count": 65,
   "metadata": {},
   "outputs": [
    {
     "data": {
      "text/plain": [
       "Series([], Name: recicla, dtype: object)"
      ]
     },
     "execution_count": 65,
     "metadata": {},
     "output_type": "execute_result"
    }
   ],
   "source": [
    "recicla_sim[30] = True\n",
    "recicla_nao[30] = False\n",
    "recicla_outros[30] = False\n",
    "\n",
    "recicla_sim[45] = False\n",
    "recicla_nao[45] = True\n",
    "recicla_outros[45] = False\n",
    "\n",
    "ecopontos['recicla'][recicla_outros]"
   ]
  },
  {
   "cell_type": "code",
   "execution_count": 66,
   "metadata": {},
   "outputs": [],
   "source": [
    "ecopontos['recicla'][recicla_nao] = 'nao'\n",
    "ecopontos['recicla'][recicla_sim] = 'sim'\n",
    "ecopontos['recicla'][recicla_outros] = 'outro'"
   ]
  },
  {
   "cell_type": "code",
   "execution_count": 67,
   "metadata": {},
   "outputs": [
    {
     "data": {
      "text/plain": [
       "recicla\n",
       "sim    35\n",
       "nao    14\n",
       "Name: count, dtype: int64"
      ]
     },
     "execution_count": 67,
     "metadata": {},
     "output_type": "execute_result"
    }
   ],
   "source": [
    "ecopontos['recicla'].value_counts()"
   ]
  },
  {
   "cell_type": "markdown",
   "metadata": {},
   "source": [
    "TODO - Verificar principais justificativas"
   ]
  },
  {
   "cell_type": "markdown",
   "metadata": {},
   "source": [
    "Com que frequência você recicla materiais em sua casa?"
   ]
  },
  {
   "cell_type": "code",
   "execution_count": 68,
   "metadata": {},
   "outputs": [
    {
     "data": {
      "text/plain": [
       "frequencia_recicla\n",
       "Sempre       23\n",
       "Às vezes     14\n",
       "Raramente     9\n",
       "Nunca         3\n",
       "Name: count, dtype: int64"
      ]
     },
     "execution_count": 68,
     "metadata": {},
     "output_type": "execute_result"
    }
   ],
   "source": [
    "ecopontos['frequencia_recicla'].value_counts()"
   ]
  },
  {
   "cell_type": "markdown",
   "metadata": {},
   "source": [
    "Você já teve problemas com o acúmulo de lixo em sua região? Se sim, como isso afetou sua rotina diária?"
   ]
  },
  {
   "cell_type": "code",
   "execution_count": 69,
   "metadata": {},
   "outputs": [
    {
     "data": {
      "text/plain": [
       "0     Sim, como não foi de nossa responsabilidade, t...\n",
       "4     Sim, mas não o suficiente para afetar minha ro...\n",
       "15    somente uma vez onde os trabalhadores da colet...\n",
       "17    Sim. Acúmulo de lixo acabou gerando o surgimen...\n",
       "18             Já sim, apareceu escorpião na minha casa\n",
       "24    Sim, as vezes eles não passam na rua e quando ...\n",
       "26    As vezes quando venta muito acaba voando lixo ...\n",
       "27    Sim, há terrenos baldios com muito lixo que pr...\n",
       "29    Sim, porém foi apenas um incômodo, sem maiores...\n",
       "33    Sim, fica com muito lixo armazenada dentro de ...\n",
       "38                                   Sim, é deprimente.\n",
       "41       sim, teve acúmulo de baratas e cheiros fortes \n",
       "44          Sim sempre e temos lixo acumulado no bairro\n",
       "45    Aconteceu algumas vezes, o cheiro ficou insupo...\n",
       "46    Sim, odor forte durante o dia, acaba atrapalha...\n",
       "47                  Sim ..,mal cheiro , ratos ,baratas \n",
       "Name: acumulo, dtype: object"
      ]
     },
     "execution_count": 69,
     "metadata": {},
     "output_type": "execute_result"
    }
   ],
   "source": [
    "acumulo_sim = (ecopontos['acumulo'].str.contains('sim', case=False) |\n",
    "               ecopontos['acumulo'].str.contains('vez', case=False))\n",
    "ecopontos['acumulo'][acumulo_sim]"
   ]
  },
  {
   "cell_type": "code",
   "execution_count": 70,
   "metadata": {},
   "outputs": [
    {
     "data": {
      "text/plain": [
       "1                                                  Não \n",
       "2                                                   não\n",
       "5                                              Não tive\n",
       "6                                                   Não\n",
       "7                                                  Não \n",
       "10                                 Nunca tive problemas\n",
       "11                                                 Não \n",
       "12                                                 NÃO.\n",
       "13                                                 Não \n",
       "14                                                 Não \n",
       "16                                                  Nao\n",
       "19                                                 Não \n",
       "20                                                 Não \n",
       "21                                                 Não \n",
       "22                                                 Não \n",
       "23                                                 Não \n",
       "25                                           Não tive. \n",
       "28                                                 Não \n",
       "30                                                 Não.\n",
       "31                                                  Não\n",
       "32    Pelo curto período que eu moro na região eu, d...\n",
       "34                                                 Não \n",
       "35                                                 Não \n",
       "36                                           Nunca tive\n",
       "37                                                 Não \n",
       "39                                   Não no meu bairro.\n",
       "40                                                 Não \n",
       "42    Não tive problemas até o momento. A coleta fun...\n",
       "43                                      Felizmente não \n",
       "48                                                 Não \n",
       "Name: acumulo, dtype: object"
      ]
     },
     "execution_count": 70,
     "metadata": {},
     "output_type": "execute_result"
    }
   ],
   "source": [
    "condition = (\n",
    "    ~ (ecopontos['acumulo'].str.contains('sim', case=False)) &\n",
    "    ~ (ecopontos['acumulo'].str.contains('lembr', case=False)) &\n",
    "    (ecopontos['acumulo'].str.contains('não', case=False) |\n",
    "    ecopontos['acumulo'].str.contains('nao', case=False)) |\n",
    "    (ecopontos['acumulo'].str.contains('nunca', case=False))\n",
    "    )\n",
    "acumulo_nao = condition \n",
    "ecopontos['acumulo'][acumulo_nao]"
   ]
  },
  {
   "cell_type": "code",
   "execution_count": 71,
   "metadata": {},
   "outputs": [
    {
     "data": {
      "text/plain": [
       "3                   Não que eu me lembre, mas deve ter\n",
       "8    Acúmulos geram odores desagradáveis, sujeira e...\n",
       "9                                        Não me lembro\n",
       "Name: acumulo, dtype: object"
      ]
     },
     "execution_count": 71,
     "metadata": {},
     "output_type": "execute_result"
    }
   ],
   "source": [
    "acumulo_outros = ~acumulo_sim & ~acumulo_nao\n",
    "ecopontos['acumulo'][acumulo_outros]"
   ]
  },
  {
   "cell_type": "code",
   "execution_count": 72,
   "metadata": {},
   "outputs": [],
   "source": [
    "ecopontos['acumulo'][acumulo_nao] = 'nao'\n",
    "ecopontos['acumulo'][acumulo_sim] = 'sim'\n",
    "ecopontos['acumulo'][acumulo_outros] = 'outro'"
   ]
  },
  {
   "cell_type": "code",
   "execution_count": 73,
   "metadata": {},
   "outputs": [
    {
     "data": {
      "text/plain": [
       "acumulo\n",
       "nao      30\n",
       "sim      16\n",
       "outro     3\n",
       "Name: count, dtype: int64"
      ]
     },
     "execution_count": 73,
     "metadata": {},
     "output_type": "execute_result"
    }
   ],
   "source": [
    "ecopontos['acumulo'].value_counts()"
   ]
  },
  {
   "cell_type": "markdown",
   "metadata": {},
   "source": [
    "TODO - Verificar as principais formas como isso afetou a vida das pessoas"
   ]
  },
  {
   "cell_type": "markdown",
   "metadata": {},
   "source": [
    "Você já teve problemas com o mau cheiro ou com a presença de animais atraídos pelo lixo em sua região? Se sim, o que fizeram a respeito para sanar o problema?"
   ]
  },
  {
   "cell_type": "code",
   "execution_count": 74,
   "metadata": {},
   "outputs": [
    {
     "data": {
      "text/plain": [
       "0     Sim, baratas, escorpiões, e consequentemente g...\n",
       "4     Sim, nada foi feito, mesmo com denúncias feita...\n",
       "12    SIM. GERALMENTE POR DESCARTE INADEQUADO DO LIX...\n",
       "17                                           Sim. Nada.\n",
       "18                           Já sim, tivemos que limpar\n",
       "25                   Sim. Não fizeram nada a respeito. \n",
       "27    Sim, escorpiões. Entramos em contato com os vi...\n",
       "36                        Sim, comuniquei a prefeitura \n",
       "41    sim, não sei se foram os próprios moradores qu...\n",
       "44    Sim a prefeitura não veio aqui no Residencial ...\n",
       "45    Sim. Agora só colocamos o lixo no último insta...\n",
       "47                   Sim …retiram o lixo e detetizaram \n",
       "Name: mau_cheiro, dtype: object"
      ]
     },
     "execution_count": 74,
     "metadata": {},
     "output_type": "execute_result"
    }
   ],
   "source": [
    "mau_cheiro_sim = ecopontos['mau_cheiro'].str.contains('sim', case=False)\n",
    "ecopontos['mau_cheiro'][mau_cheiro_sim]"
   ]
  },
  {
   "cell_type": "code",
   "execution_count": 75,
   "metadata": {},
   "outputs": [
    {
     "data": {
      "text/plain": [
       "1                                                  Não \n",
       "2                                                   não\n",
       "3     Alguns bairros específicos cheiram muito mal (...\n",
       "5                                              Não tive\n",
       "7                                                  Não \n",
       "10                                   Não tive problema \n",
       "11                                                 Não \n",
       "13                                                 Não \n",
       "14                                                 Não \n",
       "16                                                  Nao\n",
       "19                                                 Não \n",
       "20                                                 Não \n",
       "21                                                 Não \n",
       "22                                                 Não \n",
       "23                                                 Não \n",
       "24                                                 Não \n",
       "26                                                 Não \n",
       "28                                                 Não \n",
       "30                                                 Não.\n",
       "31                                                  Não\n",
       "33                                                 Não \n",
       "34                                                 Não \n",
       "35                                                 Não \n",
       "37                                                 Não \n",
       "38                                                 Não.\n",
       "39                                                 Não.\n",
       "40                                                 Não \n",
       "42                    Não tive problemas até o momento.\n",
       "43                                      Felizmente não \n",
       "48                                                 Não \n",
       "Name: mau_cheiro, dtype: object"
      ]
     },
     "execution_count": 75,
     "metadata": {},
     "output_type": "execute_result"
    }
   ],
   "source": [
    "mau_cheiro_nao = (\n",
    "    ~ (ecopontos['mau_cheiro'].str.contains('sim', case=False)) &\n",
    "    (ecopontos['mau_cheiro'].str.contains('não', case=False) |\n",
    "    ecopontos['mau_cheiro'].str.contains('nao', case=False))\n",
    "    )\n",
    "ecopontos['mau_cheiro'][mau_cheiro_nao]"
   ]
  },
  {
   "cell_type": "code",
   "execution_count": 76,
   "metadata": {},
   "outputs": [],
   "source": [
    "mau_cheiro_sim[3] = True\n",
    "mau_cheiro_nao[3] = False"
   ]
  },
  {
   "cell_type": "code",
   "execution_count": 77,
   "metadata": {},
   "outputs": [
    {
     "data": {
      "text/plain": [
       "6                                                  Nada\n",
       "8     Já tenho lixeira! Mas além disso coloco os sac...\n",
       "9                                                 Nunca\n",
       "15    muitas moscas varejeiras o q e inevitável pois...\n",
       "29                                  Esperamos o lixeiro\n",
       "32    No meu bairro o controle do lixo doméstico é b...\n",
       "46    Com odor, geralmente pedir para a prefeitura r...\n",
       "Name: mau_cheiro, dtype: object"
      ]
     },
     "execution_count": 77,
     "metadata": {},
     "output_type": "execute_result"
    }
   ],
   "source": [
    "mau_cheiro_outros = ~mau_cheiro_sim & ~mau_cheiro_nao\n",
    "ecopontos['mau_cheiro'][mau_cheiro_outros]"
   ]
  },
  {
   "cell_type": "code",
   "execution_count": 78,
   "metadata": {},
   "outputs": [],
   "source": [
    "mau_cheiro_nao[6] = True\n",
    "mau_cheiro_sim[6] = False\n",
    "mau_cheiro_outros[6] = False\n",
    "\n",
    "mau_cheiro_nao[9] = True\n",
    "mau_cheiro_sim[9] = False\n",
    "mau_cheiro_outros[9] = False \n",
    "\n",
    "mau_cheiro_nao[32] = True\n",
    "mau_cheiro_sim[32] = False\n",
    "mau_cheiro_outros[32] = False\n",
    "\n",
    "mau_cheiro_sim[15] = True\n",
    "mau_cheiro_nao[15] = False\n",
    "mau_cheiro_outros[15] = False"
   ]
  },
  {
   "cell_type": "code",
   "execution_count": 79,
   "metadata": {},
   "outputs": [],
   "source": [
    "ecopontos['mau_cheiro'][mau_cheiro_nao] = 'nao'\n",
    "ecopontos['mau_cheiro'][mau_cheiro_sim] = 'sim'\n",
    "ecopontos['mau_cheiro'][mau_cheiro_outros] = 'outro'"
   ]
  },
  {
   "cell_type": "markdown",
   "metadata": {},
   "source": [
    "TODO - Verificar quantas respostas estão relacionadas ao mal cheiro e quantas estão relacionadas a animais\n",
    "\n",
    "TODO - Verificar quais as principais formas que lidaram com o problema"
   ]
  },
  {
   "cell_type": "markdown",
   "metadata": {},
   "source": [
    "Você já presenciou pessoas descartando lixo em locais inadequados em sua região? Se sim, quais foram esses locais?"
   ]
  },
  {
   "cell_type": "code",
   "execution_count": 80,
   "metadata": {},
   "outputs": [
    {
     "data": {
      "text/plain": [
       "0     Sim, terrenos baldios, inclusive jogando fogo ...\n",
       "1                       Sim, terrenos baldios e rodovia\n",
       "2        Sim, principalmente em terrenos sem construção\n",
       "4     Sim, na chão, pela janela de carros, em terren...\n",
       "6                                         Sim, terrenos\n",
       "7     Sim, na estrada de terra próximo ao SESI da vi...\n",
       "9     Sim, no meio da rua, em calçadas, mas principa...\n",
       "12    SIM, GERALMENTE EM ÁREAS DE PROTEÇÃO AMBIENTAL...\n",
       "13                                Sim, terrenos baldio \n",
       "14                                        Sim, não sei \n",
       "16                          Sim.. terrenos abandonados \n",
       "17             Sim, há uma praça que descartam lixo lá \n",
       "18                   Sim, geralmente na rua ou calçada \n",
       "19                            Sim, quintais abandonados\n",
       "22    Sim, na zona sul de Presidente Prudente nas be...\n",
       "23                               Sim, terrenos baldios \n",
       "24    Sim, as vezes na frente tem um espaço grande s...\n",
       "25    Sim, depois de Montalvão na primeira entrada d...\n",
       "26                      Sim, perto do parque ecológico \n",
       "27                             Sim, em terrenos baldios\n",
       "28          Sim, terrenos abandonados e próximo a pasto\n",
       "32    Sim, no centro da cidade, em locais públicos c...\n",
       "33                      Sim. Terrenos baldios ou a rua.\n",
       "34              Sim, uma antiga escola que foi demolida\n",
       "35               Sim, terrenos baldios e fundos de vale\n",
       "36    sim, terrenos baldios, praças públicas, calçad...\n",
       "37                               Sim, terrenos baldios \n",
       "38                               Sim. Na rua e calçada.\n",
       "39                   Sim, praças ruas  e vias públicas.\n",
       "40                     Sim, na praça em frente de casa \n",
       "42                        Sim. Local: terrenos baldios.\n",
       "43                   Sim, no pasto próximo a minha xasa\n",
       "44     Sim aqui no meu bairro como é novo sempre vemos \n",
       "45    Sim. Numa rua de acesso à avenida Hiroshi Yosh...\n",
       "46    Sim, principalmente em vias publicas, pela jan...\n",
       "47                             Sim ..,terrenos baldios \n",
       "Name: descarte_local_inadequado, dtype: object"
      ]
     },
     "execution_count": 80,
     "metadata": {},
     "output_type": "execute_result"
    }
   ],
   "source": [
    "descarte_local_sim = ecopontos['descarte_local_inadequado'].str.contains('sim', case=False)\n",
    "ecopontos['descarte_local_inadequado'][descarte_local_sim]"
   ]
  },
  {
   "cell_type": "code",
   "execution_count": 81,
   "metadata": {},
   "outputs": [
    {
     "data": {
      "text/plain": [
       "5     Não presenciei \n",
       "10     Não presenciei\n",
       "15                não\n",
       "20               Não \n",
       "21               Não \n",
       "31                Não\n",
       "48               Não \n",
       "Name: descarte_local_inadequado, dtype: object"
      ]
     },
     "execution_count": 81,
     "metadata": {},
     "output_type": "execute_result"
    }
   ],
   "source": [
    "descarte_local_nao = (\n",
    "    ~ (ecopontos['descarte_local_inadequado'].str.contains('sim', case=False)) &\n",
    "    (ecopontos['descarte_local_inadequado'].str.contains('não', case=False) |\n",
    "    ecopontos['descarte_local_inadequado'].str.contains('nao', case=False))\n",
    "    )\n",
    "ecopontos['descarte_local_inadequado'][descarte_local_nao]"
   ]
  },
  {
   "cell_type": "code",
   "execution_count": 82,
   "metadata": {},
   "outputs": [
    {
     "data": {
      "text/plain": [
       "3     Frequentemente em avenidas e áreas comerciais ...\n",
       "8           Terreno baldio, casa abandonada, no esgoto \n",
       "11                                    Terrenos baldios \n",
       "29             Beira de corregos, áreas de preservação \n",
       "30    Papel de bala, garrafa quebrada ou latinha de ...\n",
       "41                                    nunca presenciei \n",
       "Name: descarte_local_inadequado, dtype: object"
      ]
     },
     "execution_count": 82,
     "metadata": {},
     "output_type": "execute_result"
    }
   ],
   "source": [
    "descarte_local_outros = ~descarte_local_sim & ~descarte_local_nao\n",
    "ecopontos['descarte_local_inadequado'][descarte_local_outros]"
   ]
  },
  {
   "cell_type": "code",
   "execution_count": 83,
   "metadata": {},
   "outputs": [],
   "source": [
    "descarte_local_nao[41] = True\n",
    "descarte_local_sim[41] = False\n",
    "descarte_local_outros[41] = False\n",
    "\n",
    "for i in descarte_local_outros.index:\n",
    "    if descarte_local_outros[i]:\n",
    "        descarte_local_sim[i] = True\n",
    "        descarte_local_nao[i] = False\n",
    "        descarte_local_outros[i] = False"
   ]
  },
  {
   "cell_type": "code",
   "execution_count": 84,
   "metadata": {},
   "outputs": [],
   "source": [
    "ecopontos['descarte_local_inadequado'][descarte_local_nao] = 'nao'\n",
    "ecopontos['descarte_local_inadequado'][descarte_local_sim] = 'sim'\n",
    "ecopontos['descarte_local_inadequado'][descarte_local_outros] = 'outro'"
   ]
  },
  {
   "cell_type": "code",
   "execution_count": 85,
   "metadata": {},
   "outputs": [
    {
     "data": {
      "text/plain": [
       "descarte_local_inadequado\n",
       "sim    41\n",
       "nao     8\n",
       "Name: count, dtype: int64"
      ]
     },
     "execution_count": 85,
     "metadata": {},
     "output_type": "execute_result"
    }
   ],
   "source": [
    "ecopontos['descarte_local_inadequado'].value_counts()"
   ]
  },
  {
   "cell_type": "markdown",
   "metadata": {},
   "source": [
    "TODO - Verificar principais locais afetados"
   ]
  },
  {
   "cell_type": "markdown",
   "metadata": {},
   "source": [
    "Qual é o seu nível de conhecimento sobre reciclagem?"
   ]
  },
  {
   "cell_type": "code",
   "execution_count": 86,
   "metadata": {},
   "outputs": [
    {
     "data": {
      "text/plain": [
       "nivel_conhecimento\n",
       "Conhecimento médio       27\n",
       "Pouco conhecimento       19\n",
       "Conhecimento avançado     3\n",
       "Name: count, dtype: int64"
      ]
     },
     "execution_count": 86,
     "metadata": {},
     "output_type": "execute_result"
    }
   ],
   "source": [
    "ecopontos['nivel_conhecimento'].value_counts()"
   ]
  },
  {
   "cell_type": "markdown",
   "metadata": {},
   "source": [
    "Você sabe quais materiais são recicláveis e quais não são? Quais informações  possui sobre isso em sua região?"
   ]
  },
  {
   "cell_type": "code",
   "execution_count": 87,
   "metadata": {},
   "outputs": [
    {
     "data": {
      "text/plain": [
       "2                                                   sim\n",
       "3     Alguns sim e alguns não. (Nunca presenciei nen...\n",
       "5     Sim, pude aprender na escola mas na minha regi...\n",
       "7                                                   Sim\n",
       "12    SIM, MAS CREIO NÃO HAVER MUITO CONHECIMENTO DI...\n",
       "13    Sim, materiais não recicláveis são os orgânico...\n",
       "14                  Sei sim, sem informações na região \n",
       "16                                                  Sim\n",
       "17    Sim.\\nSei que são classificados por tipo de ma...\n",
       "19                                         Sim, mediana\n",
       "20    Sim, normalmente o lixo do prédio se separa em...\n",
       "21                                                  Sim\n",
       "22    Sim, tenho um conhecimento breve sobre o assun...\n",
       "24                                                 Sim \n",
       "25                                                Sim. \n",
       "26    Sim, porem aqui na região é dada pouca ênfase ...\n",
       "27                      Sim, sei. A informação é pouca.\n",
       "28                        Sim, na minha região não sei.\n",
       "31    Sim, informações advindas de campanhas escolar...\n",
       "33    Sim. Aqui tem muitas propagandas e separações ...\n",
       "34                                                  Sim\n",
       "36                              Sim, aprendi na escola \n",
       "38    Sim. Onde moro coletores recolhem o lixo recic...\n",
       "39                                                 Sim.\n",
       "40                             Sim conheço os matérias \n",
       "41                             sim, tem algumas placas \n",
       "42    Sim, tenho conhecimento. Nas empresas que trab...\n",
       "44                                                  Sim\n",
       "45                                                  Sim\n",
       "46      Sim, a conscientização é baixa ja minha região.\n",
       "48                                                 Sim \n",
       "Name: quais_materiais_sao_reciclaveis, dtype: object"
      ]
     },
     "execution_count": 87,
     "metadata": {},
     "output_type": "execute_result"
    }
   ],
   "source": [
    "quais_materiais_sao_reciclaveis_sim = ecopontos['quais_materiais_sao_reciclaveis'].str.contains('sim', case=False)\n",
    "ecopontos['quais_materiais_sao_reciclaveis'][quais_materiais_sao_reciclaveis_sim]"
   ]
  },
  {
   "cell_type": "code",
   "execution_count": 88,
   "metadata": {},
   "outputs": [
    {
     "data": {
      "text/plain": [
       "0     Não a fundo, não há informações claras em tant...\n",
       "1                          Sei, mas não há informações \n",
       "4     Sei os recicláveis, mas não possui nenhuma inf...\n",
       "11    Conheço alguns materiais que são recicláveis, ...\n",
       "15    Papel e Plástico, nao possui muitos locais com...\n",
       "18                                                 Não \n",
       "23    Acredito que tudo que não seja biodegradável. ...\n",
       "35    Sei, na região não vejo muito, mas online se e...\n",
       "47    Recicláveis : Plástico , papelão , papel , pet...\n",
       "Name: quais_materiais_sao_reciclaveis, dtype: object"
      ]
     },
     "execution_count": 88,
     "metadata": {},
     "output_type": "execute_result"
    }
   ],
   "source": [
    "quais_materiais_sao_reciclaveis_nao = (\n",
    "    ~ (ecopontos['quais_materiais_sao_reciclaveis'].str.contains('sim', case=False)) &\n",
    "    (ecopontos['quais_materiais_sao_reciclaveis'].str.contains('não', case=False) |\n",
    "    ecopontos['quais_materiais_sao_reciclaveis'].str.contains('nao', case=False))\n",
    "    )\n",
    "ecopontos['quais_materiais_sao_reciclaveis'][quais_materiais_sao_reciclaveis_nao]"
   ]
  },
  {
   "cell_type": "code",
   "execution_count": 89,
   "metadata": {},
   "outputs": [],
   "source": [
    "quais_materiais_sao_reciclaveis_nao_errado_sim = [1, 4, 11, 15, 35, 47]      "
   ]
  },
  {
   "cell_type": "code",
   "execution_count": 90,
   "metadata": {},
   "outputs": [
    {
     "data": {
      "text/plain": [
       "6                                                Talvez\n",
       "8     Alguns tipos de Plástico, papel/papelão, alumí...\n",
       "9                                Papel, plastico, vidro\n",
       "10    Eu sei, mas no máximo a informação que eu vejo...\n",
       "29                              Sei, aprendi na escola \n",
       "30    Eu sei dos mais comuns, mas desconheço quais p...\n",
       "32    Até agora o meu conhecimento veio por causa de...\n",
       "37                                 Algumas informações \n",
       "43    Na região a informação é precária, porém conhe...\n",
       "Name: quais_materiais_sao_reciclaveis, dtype: object"
      ]
     },
     "execution_count": 90,
     "metadata": {},
     "output_type": "execute_result"
    }
   ],
   "source": [
    "quais_materiais_sao_reciclaveis_outros = ~quais_materiais_sao_reciclaveis_sim & ~quais_materiais_sao_reciclaveis_nao\n",
    "ecopontos['quais_materiais_sao_reciclaveis'][quais_materiais_sao_reciclaveis_outros]"
   ]
  },
  {
   "cell_type": "code",
   "execution_count": 91,
   "metadata": {},
   "outputs": [],
   "source": [
    "quais_materiais_sao_reciclaveis_sim[3] = False\n",
    "quais_materiais_sao_reciclaveis_nao[3] = False\n",
    "quais_materiais_sao_reciclaveis_outros[3] = True"
   ]
  },
  {
   "cell_type": "code",
   "execution_count": 92,
   "metadata": {},
   "outputs": [],
   "source": [
    "quais_materiais_sao_reciclaveis_outros_errado_sim = [8, 9, 10, 30]"
   ]
  },
  {
   "cell_type": "code",
   "execution_count": 93,
   "metadata": {},
   "outputs": [],
   "source": [
    "for i in quais_materiais_sao_reciclaveis_outros_errado_sim + quais_materiais_sao_reciclaveis_nao_errado_sim:\n",
    "    quais_materiais_sao_reciclaveis_sim[i] = True\n",
    "    quais_materiais_sao_reciclaveis_nao[i] = False\n",
    "    quais_materiais_sao_reciclaveis_outros[i] = False"
   ]
  },
  {
   "cell_type": "code",
   "execution_count": 94,
   "metadata": {},
   "outputs": [],
   "source": [
    "ecopontos['quais_materiais_sao_reciclaveis'][quais_materiais_sao_reciclaveis_nao] = 'nao'\n",
    "ecopontos['quais_materiais_sao_reciclaveis'][quais_materiais_sao_reciclaveis_sim] = 'sim'\n",
    "ecopontos['quais_materiais_sao_reciclaveis'][quais_materiais_sao_reciclaveis_outros] = 'outro'"
   ]
  },
  {
   "cell_type": "code",
   "execution_count": 95,
   "metadata": {},
   "outputs": [
    {
     "data": {
      "text/plain": [
       "quais_materiais_sao_reciclaveis\n",
       "sim      40\n",
       "outro     6\n",
       "nao       3\n",
       "Name: count, dtype: int64"
      ]
     },
     "execution_count": 95,
     "metadata": {},
     "output_type": "execute_result"
    }
   ],
   "source": [
    "ecopontos['quais_materiais_sao_reciclaveis'].value_counts()"
   ]
  },
  {
   "cell_type": "markdown",
   "metadata": {},
   "source": [
    "TODO - Verificar quais resposta estão realmente corretas em relação aos materiais\n",
    "\n",
    "TODO - Verificar como são as informações na região"
   ]
  },
  {
   "cell_type": "markdown",
   "metadata": {},
   "source": [
    "Quais materiais recicláveis você costuma descartar em sua casa ou local de trabalho?"
   ]
  },
  {
   "cell_type": "code",
   "execution_count": 96,
   "metadata": {},
   "outputs": [
    {
     "data": {
      "text/plain": [
       "quais_materiais_recicla_casa_trabalho\n",
       "Papel, Vidro, Plástico                                                                                                    9\n",
       "Papel, Vidro, Plástico, Metal                                                                                             8\n",
       "Papel, Vidro, Plástico, Metal, Equipamentos eletrônicos                                                                   7\n",
       "Papel, Plástico                                                                                                           6\n",
       "Vidro, Plástico, Metal, Equipamentos eletrônicos                                                                          3\n",
       "Plástico                                                                                                                  3\n",
       "Plástico, Metal                                                                                                           2\n",
       "Papel, Plástico, Metal                                                                                                    2\n",
       "Papel                                                                                                                     1\n",
       "Papel, Vidro, Plástico, Metal, Equipamentos eletrônicos eu espero sempre quando há coleta específica no parque do povo    1\n",
       "Papel, Vidro, Plástico, Metal, óleo de cozinha                                                                            1\n",
       "Vidro                                                                                                                     1\n",
       "Papel, Plástico, Metal, Equipamentos eletrônicos                                                                          1\n",
       "Papel, Vidro, Plástico, Óleo usado                                                                                        1\n",
       "Vidro, Equipamentos eletrônicos                                                                                           1\n",
       "Papel, Vidro, Plástico, Equipamentos eletrônicos, Lixo orgânico                                                           1\n",
       "Papel, Vidro, Plástico, Metal, Equipamentos eletrônicos, Pilhas , lâmpadas                                                1\n",
       "Name: count, dtype: int64"
      ]
     },
     "execution_count": 96,
     "metadata": {},
     "output_type": "execute_result"
    }
   ],
   "source": [
    "ecopontos['quais_materiais_recicla_casa_trabalho'].value_counts()"
   ]
  },
  {
   "cell_type": "markdown",
   "metadata": {},
   "source": [
    "Como você costuma descartar esses materiais recicláveis? Você utiliza algum serviço?"
   ]
  },
  {
   "cell_type": "code",
   "execution_count": 97,
   "metadata": {},
   "outputs": [
    {
     "data": {
      "text/plain": [
       "0                        Descarto no lixo comum sempre \n",
       "4                                       Pelo lixo comum\n",
       "14                                          Lixo comum \n",
       "15    deixamos em frente de casa separados do lixo c...\n",
       "19                                           Lixo comum\n",
       "25    Geralmente colocamos em sacolas diferentes do ...\n",
       "27                                           Lixo comum\n",
       "28                                 Coleta de lixo comum\n",
       "Name: como_descarta, dtype: object"
      ]
     },
     "execution_count": 97,
     "metadata": {},
     "output_type": "execute_result"
    }
   ],
   "source": [
    "como_descarta = ecopontos['como_descarta'].str.lower()\n",
    "lixo_comum = como_descarta.str.contains('comum', case=False)\n",
    "ecopontos['como_descarta'][lixo_comum]"
   ]
  },
  {
   "cell_type": "markdown",
   "metadata": {},
   "source": [
    "TODO - Adicionar outras categorias de respostas a essa pergunta"
   ]
  },
  {
   "cell_type": "markdown",
   "metadata": {},
   "source": [
    "Você já teve problemas com a falta de informação sobre a coleta de lixo em sua região? Se sim, que tipo de informação você gostaria de receber?"
   ]
  },
  {
   "cell_type": "code",
   "execution_count": 98,
   "metadata": {},
   "outputs": [
    {
     "data": {
      "text/plain": [
       "0                              Sim, não sei exatamente \n",
       "2                Sim, onde descartar lixo de construção\n",
       "4     Sim, são importantes informações sobre como de...\n",
       "6                              Sim, uma coleta semanal \n",
       "12    SIM. POR MUITOS ANOS MOREI EM BAIRROS QUE SEQU...\n",
       "18                        Sim, principalmente com óleo \n",
       "22    Já sim e acredito que as pessoas deveriam ter ...\n",
       "24    Sim, nunca avisaram quando vai fica sem passa ...\n",
       "27    Sim, seria importante divulgar horários em fer...\n",
       "28    Sim, gostaria de receber os dias e horários de...\n",
       "34                                                  Sim\n",
       "35        Sim, quais os pontos de coleta de reciclagem \n",
       "36                 Sim, não soube os horários de coleta\n",
       "38                           Sim. Infográficos e dados.\n",
       "41                                 sim, onde descartar \n",
       "44         Sim falta divulgação da parte da prefeitura \n",
       "46    Sim, gostaria de receber mais informações sobr...\n",
       "47    Sim … a prefeitura deveria fazer uma planilha ...\n",
       "48                        Sim não passa em dia definido\n",
       "Name: falta_informacao, dtype: object"
      ]
     },
     "execution_count": 98,
     "metadata": {},
     "output_type": "execute_result"
    }
   ],
   "source": [
    "falta_informacao_sim = ecopontos['falta_informacao'].str.contains('sim', case=False)\n",
    "ecopontos['falta_informacao'][falta_informacao_sim]"
   ]
  },
  {
   "cell_type": "code",
   "execution_count": 99,
   "metadata": {},
   "outputs": [
    {
     "data": {
      "text/plain": [
       "1                                                  Não \n",
       "5                                             Não tive \n",
       "7                                                  Não \n",
       "8      SEMPRE TEM! As pessoas não procuram se informar \n",
       "9                                                   Não\n",
       "10                                             Não tive\n",
       "13                                                 Não \n",
       "14                                               Nunca \n",
       "15                                                  não\n",
       "16                                      Não, nunca tive\n",
       "19                                                 Não \n",
       "20                                                 Não \n",
       "21                                                 Não \n",
       "23                                    Acredito que não \n",
       "24    Sim, nunca avisaram quando vai fica sem passa ...\n",
       "25                                                 Não.\n",
       "26                                                 Não \n",
       "29                                                  não\n",
       "33                                                  Não\n",
       "39                                          Nunca tive.\n",
       "40                                                 Não \n",
       "42                                  Não tive problemas.\n",
       "Name: falta_informacao, dtype: object"
      ]
     },
     "execution_count": 99,
     "metadata": {},
     "output_type": "execute_result"
    }
   ],
   "source": [
    "falta_informacao_nao = (\n",
    "    ~ (ecopontos['falta_informacao'].str.contains('sim', case=False)) &\n",
    "    (ecopontos['falta_informacao'].str.contains('não', case=False) |\n",
    "    ecopontos['falta_informacao'].str.contains('nao', case=False)) |\n",
    "    (ecopontos['falta_informacao'].str.contains('nunca', case=False))\n",
    "    )\n",
    "ecopontos['falta_informacao'][falta_informacao_nao]"
   ]
  },
  {
   "cell_type": "code",
   "execution_count": 100,
   "metadata": {},
   "outputs": [],
   "source": [
    "falta_informacao_nao[8] = False\n",
    "falta_informacao_nao[24] = False"
   ]
  },
  {
   "cell_type": "code",
   "execution_count": 101,
   "metadata": {},
   "outputs": [
    {
     "data": {
      "text/plain": [
       "3             Gostaria de saber para onde todo lixo vai\n",
       "8      SEMPRE TEM! As pessoas não procuram se informar \n",
       "11    Ter o contato de empresa de reciclagem, inform...\n",
       "17    Mais informações sobre como separar corretamen...\n",
       "30                     Quando e como acontece a coleta.\n",
       "31    A coleta de lixo costuma ser regular, seria im...\n",
       "32                            Dias das coletas de lixo.\n",
       "37    Onde podem ser deixados equipamentos eletrônicos \n",
       "43    Falta indicação de datas e horários de coleta....\n",
       "45    Muita falta de informação. Gostaria de ter a i...\n",
       "Name: falta_informacao, dtype: object"
      ]
     },
     "execution_count": 101,
     "metadata": {},
     "output_type": "execute_result"
    }
   ],
   "source": [
    "falta_informacao_outros = ~falta_informacao_sim & ~falta_informacao_nao\n",
    "ecopontos['falta_informacao'][falta_informacao_outros]"
   ]
  },
  {
   "cell_type": "code",
   "execution_count": 102,
   "metadata": {},
   "outputs": [
    {
     "data": {
      "text/plain": [
       "falta_informacao\n",
       "sim      23\n",
       "nao      21\n",
       "outro     5\n",
       "Name: count, dtype: int64"
      ]
     },
     "execution_count": 102,
     "metadata": {},
     "output_type": "execute_result"
    }
   ],
   "source": [
    "falta_informacao_sim[8] = False\n",
    "falta_informacao_nao[8] = True        \n",
    "falta_informacao_outros[8] = False\n",
    "\n",
    "falta_informacao_sim[30] = True\n",
    "falta_informacao_nao[30] = False        \n",
    "falta_informacao_outros[30] = False\n",
    "\n",
    "falta_informacao_sim[32] = True\n",
    "falta_informacao_nao[32] = False        \n",
    "falta_informacao_outros[32] = False\n",
    "\n",
    "falta_informacao_sim[43] = True\n",
    "falta_informacao_nao[43] = False        \n",
    "falta_informacao_outros[43] = False\n",
    "\n",
    "falta_informacao_sim[45] = True\n",
    "falta_informacao_nao[45] = False        \n",
    "falta_informacao_outros[45] = False\n",
    "\n",
    "\n",
    "ecopontos['falta_informacao'][falta_informacao_nao] = 'nao'\n",
    "ecopontos['falta_informacao'][falta_informacao_sim] = 'sim'\n",
    "ecopontos['falta_informacao'][falta_informacao_outros] = 'outro'\n",
    "\n",
    "ecopontos['falta_informacao'].value_counts()\n"
   ]
  },
  {
   "cell_type": "markdown",
   "metadata": {},
   "source": [
    "Você já teve dificuldades em encontrar locais para descartar seus materiais recicláveis? Se sim, quais foram essas dificuldades?   "
   ]
  },
  {
   "cell_type": "code",
   "execution_count": 103,
   "metadata": {},
   "outputs": [
    {
     "data": {
      "text/plain": [
       "0     Sim, não tem lixeiras especiais de reciclagem,...\n",
       "2                 Sim, com descarte de lixo eletrônico \n",
       "3             Sim, principalmente no centro da cidade. \n",
       "4     Sim, falta de divulgação de cronograma pela pr...\n",
       "12    SIM, POIS NÃO HAVIA COLETA SELETIVA NA MAIORIA...\n",
       "18                                           Sim, óleo \n",
       "19                                 Sim, zonas de coleta\n",
       "26                        Sim, poucos pontos de coleta.\n",
       "27    Sim, o que eu sei aqui na cidade são os caminh...\n",
       "28    Sim, não saber o dia de coleta dos bairros que...\n",
       "35                            Sim, falta de divulgação \n",
       "36                 Sim, principalmente lixo eletrônico \n",
       "38    Sim, não sei onde descartar lixo eletrônico e ...\n",
       "39                Sim, principalmente no parque do povo\n",
       "41                               sim, não tem por perto\n",
       "42    Sim, uma vez. Eram sobras de materiais para co...\n",
       "44               Sim, nenhuma informação da prefeitura \n",
       "47    Sim ..,pilhas , vidros material eletrônico , f...\n",
       "Name: dificuldades_locais_descarte, dtype: object"
      ]
     },
     "execution_count": 103,
     "metadata": {},
     "output_type": "execute_result"
    }
   ],
   "source": [
    "dificuldades_locais_descarte_sim = ecopontos['dificuldades_locais_descarte'].str.contains('sim', case=False)\n",
    "ecopontos['dificuldades_locais_descarte'][dificuldades_locais_descarte_sim]"
   ]
  },
  {
   "cell_type": "code",
   "execution_count": 104,
   "metadata": {},
   "outputs": [
    {
     "data": {
      "text/plain": [
       "1                                                  Não \n",
       "5     Não tive, o carro da reciclagem passa semanalm...\n",
       "6                                                  Não \n",
       "7                                                  Não \n",
       "10                                                 Não \n",
       "11         Não saber onde ficam esses locais de coleta \n",
       "13                                                 Não \n",
       "14                                                 Não \n",
       "15    não tive pois quase sempre tem alguém que faz ...\n",
       "16                                                  Nao\n",
       "17                       Não há muitos pontos de coleta\n",
       "20                                                 Não \n",
       "21                                                 Não \n",
       "22    Em certa época que não havia coleta de recicla...\n",
       "23                                                 Não \n",
       "24                                                 Não \n",
       "30    Nunca busquei saber se há um centro de recicla...\n",
       "31    Somente a questão do serviço não ter um horári...\n",
       "33                                                  Não\n",
       "34                                                 Não \n",
       "37                                                 Não \n",
       "40                                                 Não \n",
       "48                    Coleta não passar no dia definido\n",
       "Name: dificuldades_locais_descarte, dtype: object"
      ]
     },
     "execution_count": 104,
     "metadata": {},
     "output_type": "execute_result"
    }
   ],
   "source": [
    "dificuldades_locais_descarte_nao = (\n",
    "    ~ (ecopontos['dificuldades_locais_descarte'].str.contains('sim', case=False)) &\n",
    "    (ecopontos['dificuldades_locais_descarte'].str.contains('não', case=False) |\n",
    "    ecopontos['dificuldades_locais_descarte'].str.contains('nao', case=False)) |\n",
    "    (ecopontos['dificuldades_locais_descarte'].str.contains('nunca', case=False))\n",
    "    )\n",
    "ecopontos['dificuldades_locais_descarte'][dificuldades_locais_descarte_nao]"
   ]
  },
  {
   "cell_type": "code",
   "execution_count": 105,
   "metadata": {},
   "outputs": [],
   "source": [
    "dificuldades_locais_descarte_nao[11] = False\n",
    "dificuldades_locais_descarte_nao[17] = False\n",
    "dificuldades_locais_descarte_nao[22] = False\n",
    "dificuldades_locais_descarte_nao[31] = False\n",
    "dificuldades_locais_descarte_nao[48] = False"
   ]
  },
  {
   "cell_type": "code",
   "execution_count": 106,
   "metadata": {},
   "outputs": [
    {
     "data": {
      "text/plain": [
       "8                            Horários e datas CORRETAS \n",
       "9               Gostaria de saber onde descartar móveis\n",
       "11         Não saber onde ficam esses locais de coleta \n",
       "17                       Não há muitos pontos de coleta\n",
       "22    Em certa época que não havia coleta de recicla...\n",
       "25                                           Um pouco. \n",
       "29                      em geral com o lixo eletrônico \n",
       "31    Somente a questão do serviço não ter um horári...\n",
       "32    Lixeiras públicas e também em meu bairro que t...\n",
       "43       Os ecopontos da cidade estão parados há anos. \n",
       "45                                   Já respondi acima \n",
       "46    A dificuldade é em encontrar informações sobre...\n",
       "48                    Coleta não passar no dia definido\n",
       "Name: dificuldades_locais_descarte, dtype: object"
      ]
     },
     "execution_count": 106,
     "metadata": {},
     "output_type": "execute_result"
    }
   ],
   "source": [
    "dificuldades_locais_descarte_outros = ~dificuldades_locais_descarte_sim & ~dificuldades_locais_descarte_nao\n",
    "ecopontos['dificuldades_locais_descarte'][dificuldades_locais_descarte_outros]"
   ]
  },
  {
   "cell_type": "code",
   "execution_count": 107,
   "metadata": {},
   "outputs": [],
   "source": [
    "# Na minha opinião, acho que são todos sim\n",
    "\n",
    "for i in dificuldades_locais_descarte_outros.index:\n",
    "    if dificuldades_locais_descarte_outros[i]:\n",
    "        dificuldades_locais_descarte_sim[i] = True\n",
    "        dificuldades_locais_descarte_nao[i] = False\n",
    "        dificuldades_locais_descarte_outros[i] = False"
   ]
  },
  {
   "cell_type": "code",
   "execution_count": 108,
   "metadata": {},
   "outputs": [
    {
     "data": {
      "text/plain": [
       "dificuldades_locais_descarte\n",
       "sim    31\n",
       "nao    18\n",
       "Name: count, dtype: int64"
      ]
     },
     "execution_count": 108,
     "metadata": {},
     "output_type": "execute_result"
    }
   ],
   "source": [
    "ecopontos['dificuldades_locais_descarte'][dificuldades_locais_descarte_nao] = 'nao'\n",
    "ecopontos['dificuldades_locais_descarte'][dificuldades_locais_descarte_sim] = 'sim'\n",
    "ecopontos['dificuldades_locais_descarte'][dificuldades_locais_descarte_outros] = 'outro'\n",
    "\n",
    "ecopontos['dificuldades_locais_descarte'].value_counts()"
   ]
  },
  {
   "cell_type": "markdown",
   "metadata": {},
   "source": [
    "TODO (Opcional) - Verificar as dificuldades"
   ]
  },
  {
   "cell_type": "markdown",
   "metadata": {},
   "source": [
    "Você gostaria de ter acesso a um mapa com os pontos de coleta ? "
   ]
  },
  {
   "cell_type": "code",
   "execution_count": 109,
   "metadata": {},
   "outputs": [
    {
     "data": {
      "text/plain": [
       "mapa_ponto_coleta\n",
       "Sim    48\n",
       "Name: count, dtype: int64"
      ]
     },
     "execution_count": 109,
     "metadata": {},
     "output_type": "execute_result"
    }
   ],
   "source": [
    "mapa_ponto_coleta_sim = ecopontos['mapa_ponto_coleta'].str.contains('sim', case=False)\n",
    "ecopontos['mapa_ponto_coleta'][mapa_ponto_coleta_sim].value_counts()"
   ]
  },
  {
   "cell_type": "code",
   "execution_count": 110,
   "metadata": {},
   "outputs": [
    {
     "data": {
      "text/plain": [
       "16    Não\n",
       "Name: mapa_ponto_coleta, dtype: object"
      ]
     },
     "execution_count": 110,
     "metadata": {},
     "output_type": "execute_result"
    }
   ],
   "source": [
    "mapa_ponto_coleta_nao = (\n",
    "    ~ (ecopontos['mapa_ponto_coleta'].str.contains('sim', case=False)) &\n",
    "    (ecopontos['mapa_ponto_coleta'].str.contains('não', case=False) |\n",
    "    ecopontos['mapa_ponto_coleta'].str.contains('nao', case=False)) |\n",
    "    (ecopontos['mapa_ponto_coleta'].str.contains('nunca', case=False))\n",
    "    )\n",
    "\n",
    "mapa_ponto_coleta_outros = ~mapa_ponto_coleta_sim & ~mapa_ponto_coleta_nao\n",
    "ecopontos['mapa_ponto_coleta'][mapa_ponto_coleta_nao]"
   ]
  },
  {
   "cell_type": "code",
   "execution_count": 111,
   "metadata": {},
   "outputs": [
    {
     "data": {
      "text/plain": [
       "mapa_ponto_coleta\n",
       "sim    48\n",
       "nao     1\n",
       "Name: count, dtype: int64"
      ]
     },
     "execution_count": 111,
     "metadata": {},
     "output_type": "execute_result"
    }
   ],
   "source": [
    "ecopontos['mapa_ponto_coleta'][mapa_ponto_coleta_nao] = 'nao'\n",
    "ecopontos['mapa_ponto_coleta'][mapa_ponto_coleta_sim] = 'sim'\n",
    "ecopontos['mapa_ponto_coleta'][mapa_ponto_coleta_outros] = 'outro'\n",
    "\n",
    "ecopontos['mapa_ponto_coleta'].value_counts()"
   ]
  },
  {
   "cell_type": "markdown",
   "metadata": {},
   "source": [
    "Com qual frequência você gostaria de receber notificações sobre as datas de coleta seletiva em sua região? "
   ]
  },
  {
   "cell_type": "code",
   "execution_count": 112,
   "metadata": {},
   "outputs": [
    {
     "data": {
      "text/plain": [
       "notificacoes\n",
       "Semanal    27\n",
       "Mensal     20\n",
       "Nunca       1\n",
       "Diária      1\n",
       "Name: count, dtype: int64"
      ]
     },
     "execution_count": 112,
     "metadata": {},
     "output_type": "execute_result"
    }
   ],
   "source": [
    "ecopontos['notificacoes'].value_counts()"
   ]
  },
  {
   "cell_type": "markdown",
   "metadata": {},
   "source": [
    "Você gostaria de compartilhar suas ações de reciclagem? Como compartilharia?"
   ]
  },
  {
   "cell_type": "code",
   "execution_count": 113,
   "metadata": {},
   "outputs": [
    {
     "data": {
      "text/plain": [
       "0                                       Sim, instagram \n",
       "6                                                  Sim \n",
       "7             Sim, compartilharia com pessoas próximas \n",
       "13       Sim, separar lixo reciclável e não reciclável \n",
       "19                                           Sim, whats\n",
       "22                Sim, mostraria que é simples de fazer\n",
       "38               Sim, um gráfico de descartes semanais.\n",
       "44    sim, em redes sociais por exemplo e no grupo d...\n",
       "48                                Sim pela rede social \n",
       "Name: compartilhar, dtype: object"
      ]
     },
     "execution_count": 113,
     "metadata": {},
     "output_type": "execute_result"
    }
   ],
   "source": [
    "compartilhar_sim = ecopontos['compartilhar'].str.contains('sim', case=False)\n",
    "ecopontos['compartilhar'][compartilhar_sim]"
   ]
  },
  {
   "cell_type": "code",
   "execution_count": 114,
   "metadata": {},
   "outputs": [
    {
     "data": {
      "text/plain": [
       "1                                                  Não \n",
       "2                                                   não\n",
       "4     Não, no máximo com a própria comunidade dentro...\n",
       "5                       Por nao reciclar, nao gostaria \n",
       "10                                Não vejo necessidade \n",
       "11                                                 Não \n",
       "12                       NÃO ACHO QUE SERIA NECESSÁRIO.\n",
       "14                                                 Não \n",
       "15                                                  não\n",
       "16                                                  Nao\n",
       "17                                                 Não.\n",
       "18                                                 Não \n",
       "20                                                 Não \n",
       "21                                                 Não \n",
       "23                                                  Nao\n",
       "24                                                 Não \n",
       "25                                                 Não \n",
       "28                                                 Não \n",
       "29                                                 não \n",
       "30                                                 Não.\n",
       "31                                  Não necessariamente\n",
       "32    Não gostaria mas se fosse para o uso de consci...\n",
       "33                                                  Não\n",
       "34                                                 Não \n",
       "36                                                 Não \n",
       "37                                                 Não \n",
       "39                                                 Não \n",
       "40    Não quem faz esse tipo de ação tem que ser por...\n",
       "41                                                 não \n",
       "43      Não tenho algo tão específico pra compartilhar \n",
       "45                                    Realmente não sei\n",
       "46                                                 Não \n",
       "Name: compartilhar, dtype: object"
      ]
     },
     "execution_count": 114,
     "metadata": {},
     "output_type": "execute_result"
    }
   ],
   "source": [
    "compartilhar_nao = (\n",
    "    ~ (ecopontos['compartilhar'].str.contains('sim', case=False)) &\n",
    "    (ecopontos['compartilhar'].str.contains('não', case=False) |\n",
    "    ecopontos['compartilhar'].str.contains('nao', case=False)) |\n",
    "    (ecopontos['compartilhar'].str.contains('nunca', case=False))\n",
    "    )\n",
    "\n",
    "ecopontos['compartilhar'][compartilhar_nao]"
   ]
  },
  {
   "cell_type": "code",
   "execution_count": 115,
   "metadata": {},
   "outputs": [
    {
     "data": {
      "text/plain": [
       "3     O único \"material\" que costumo reciclar é o ól...\n",
       "8          Redes sociais, grupos de whats e comunidade \n",
       "9         Se fosse compartilhar, seria melho instagram.\n",
       "26    Geralmente fazemos vasos de plantas com embala...\n",
       "27    Divulgação para conhecidos, através de redes s...\n",
       "35                                Talvez, redes sociais\n",
       "42    Poderia centralizar essas informações em algum...\n",
       "45                                    Realmente não sei\n",
       "47             Em redes sociais , panfletos nas casas …\n",
       "Name: compartilhar, dtype: object"
      ]
     },
     "execution_count": 115,
     "metadata": {},
     "output_type": "execute_result"
    }
   ],
   "source": [
    "compartilhar_nao[45] = False\n",
    "\n",
    "compartilhar_outros = ~compartilhar_sim & ~compartilhar_nao\n",
    "\n",
    "ecopontos['compartilhar'][compartilhar_outros]"
   ]
  },
  {
   "cell_type": "code",
   "execution_count": 116,
   "metadata": {},
   "outputs": [
    {
     "data": {
      "text/plain": [
       "compartilhar\n",
       "nao      31\n",
       "sim      13\n",
       "outro     5\n",
       "Name: count, dtype: int64"
      ]
     },
     "execution_count": 116,
     "metadata": {},
     "output_type": "execute_result"
    }
   ],
   "source": [
    "compartilhar_sim[8] = True\n",
    "compartilhar_nao[8] = False\n",
    "compartilhar_outros[8] = False\n",
    "\n",
    "compartilhar_sim[9] = True\n",
    "compartilhar_nao[9] = False\n",
    "compartilhar_outros[9] = False\n",
    "\n",
    "compartilhar_sim[27] = True\n",
    "compartilhar_nao[27] = False\n",
    "compartilhar_outros[27] = False\n",
    "\n",
    "compartilhar_sim[47] = True\n",
    "compartilhar_nao[47] = False\n",
    "compartilhar_outros[47] = False\n",
    "\n",
    "ecopontos['compartilhar'][compartilhar_nao] = 'nao'\n",
    "ecopontos['compartilhar'][compartilhar_sim] = 'sim'\n",
    "ecopontos['compartilhar'][compartilhar_outros] = 'outro'\n",
    "\n",
    "ecopontos['compartilhar'].value_counts()"
   ]
  },
  {
   "cell_type": "markdown",
   "metadata": {},
   "source": [
    "TODO (Opcional) - Verificar a forma de compartilhamento"
   ]
  },
  {
   "cell_type": "markdown",
   "metadata": {},
   "source": [
    "### TODO - Realizar o mesmo processo com as últimas 2 colunas"
   ]
  }
 ],
 "metadata": {
  "kernelspec": {
   "display_name": "base",
   "language": "python",
   "name": "python3"
  },
  "language_info": {
   "codemirror_mode": {
    "name": "ipython",
    "version": 3
   },
   "file_extension": ".py",
   "mimetype": "text/x-python",
   "name": "python",
   "nbconvert_exporter": "python",
   "pygments_lexer": "ipython3",
   "version": "3.12.3"
  }
 },
 "nbformat": 4,
 "nbformat_minor": 2
}
